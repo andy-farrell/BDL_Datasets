{
 "cells": [
  {
   "cell_type": "code",
   "execution_count": 76,
   "metadata": {},
   "outputs": [],
   "source": [
    "import pandas as pd\n",
    "\n",
    "url1=\"https://raw.githubusercontent.com/andy-farrell/BDL_CW/master/2018-10-city-of-london-stop-and-search.csv\"\n",
    "df1=pd.read_csv(url1)\n",
    "\n",
    "url2=\"https://raw.githubusercontent.com/andy-farrell/BDL_CW/master/2018-10-metropolitan-stop-and-search.csv\"\n",
    "df2=pd.read_csv(url2)\n",
    "\n",
    "url3='https://raw.githubusercontent.com/andy-farrell/BDL_CW/master/2018-11-city-of-london-stop-and-search.csv'\n",
    "df3=pd.read_csv(url3)\n",
    "\n",
    "url4='https://raw.githubusercontent.com/andy-farrell/BDL_CW/master/2018-11-metropolitan-stop-and-search.csv'\n",
    "df4=pd.read_csv(url4)\n",
    "\n",
    "url5='https://raw.githubusercontent.com/andy-farrell/BDL_CW/master/2018-12-city-of-london-stop-and-search.csv'\n",
    "df5=pd.read_csv(url5)\n",
    "\n",
    "url6='https://raw.githubusercontent.com/andy-farrell/BDL_CW/master/2018-12-metropolitan-stop-and-search.csv'\n",
    "df6=pd.read_csv(url6)\n",
    "\n",
    "url7='https://raw.githubusercontent.com/andy-farrell/BDL_CW/master/2019-01-city-of-london-stop-and-search.csv'\n",
    "df7=pd.read_csv(url7)\n",
    "\n",
    "url8='https://raw.githubusercontent.com/andy-farrell/BDL_CW/master/2019-01-metropolitan-stop-and-search.csv'\n",
    "df8=pd.read_csv(url8)\n",
    "\n",
    "url9='https://raw.githubusercontent.com/andy-farrell/BDL_CW/master/2019-02-city-of-london-stop-and-search.csv'\n",
    "df9=pd.read_csv(url9)\n",
    "\n",
    "url10='https://raw.githubusercontent.com/andy-farrell/BDL_CW/master/2019-02-metropolitan-stop-and-search.csv'\n",
    "df10=pd.read_csv(url10)\n",
    "\n",
    "url11='https://raw.githubusercontent.com/andy-farrell/BDL_CW/master/2019-03-city-of-london-stop-and-search.csv'\n",
    "df11=pd.read_csv(url11)\n",
    "\n",
    "url12='https://raw.githubusercontent.com/andy-farrell/BDL_CW/master/2019-03-metropolitan-stop-and-search.csv'\n",
    "df12=pd.read_csv(url12)\n",
    "\n",
    "url13='https://raw.githubusercontent.com/andy-farrell/BDL_CW/master/2019-04-city-of-london-stop-and-search.csv'\n",
    "df13=pd.read_csv(url13)\n",
    "\n",
    "url14='https://raw.githubusercontent.com/andy-farrell/BDL_CW/master/2019-04-metropolitan-stop-and-search.csv'\n",
    "df14=pd.read_csv(url14)"
   ]
  },
  {
   "cell_type": "code",
   "execution_count": 77,
   "metadata": {},
   "outputs": [],
   "source": [
    "first_six = pd.concat([df1, df2, df3, df4, df5, df6, df7, df8, df9, df10, df11, df12, df13, df14], axis=0)"
   ]
  },
  {
   "cell_type": "code",
   "execution_count": 78,
   "metadata": {},
   "outputs": [],
   "source": [
    "df = first_six.drop(columns=['Policing opera''Outcome linked to object of search', 'Removal of more than just outer clothing'])"
   ]
  },
  {
   "cell_type": "code",
   "execution_count": 79,
   "metadata": {},
   "outputs": [
    {
     "data": {
      "text/plain": [
       "Type                            128258\n",
       "Date                            128258\n",
       "Part of a policing operation    127275\n",
       "Policing operation                   0\n",
       "Latitude                        115978\n",
       "Longitude                       115978\n",
       "Gender                          126763\n",
       "Age range                       117140\n",
       "Self-defined ethnicity          126757\n",
       "Officer-defined ethnicity       125937\n",
       "Legislation                     128250\n",
       "Object of search                127853\n",
       "Outcome                         128235\n",
       "dtype: int64"
      ]
     },
     "execution_count": 79,
     "metadata": {},
     "output_type": "execute_result"
    }
   ],
   "source": [
    "df.count()"
   ]
  },
  {
   "cell_type": "code",
   "execution_count": 80,
   "metadata": {},
   "outputs": [],
   "source": [
    "# Write DataFrame to CSV\n",
    "df.to_csv('first_six.csv', index=False)"
   ]
  },
  {
   "cell_type": "code",
   "execution_count": null,
   "metadata": {},
   "outputs": [],
   "source": []
  }
 ],
 "metadata": {
  "kernelspec": {
   "display_name": "Python 3",
   "language": "python",
   "name": "python3"
  },
  "language_info": {
   "codemirror_mode": {
    "name": "ipython",
    "version": 3
   },
   "file_extension": ".py",
   "mimetype": "text/x-python",
   "name": "python",
   "nbconvert_exporter": "python",
   "pygments_lexer": "ipython3",
   "version": "3.7.0"
  }
 },
 "nbformat": 4,
 "nbformat_minor": 2
}
